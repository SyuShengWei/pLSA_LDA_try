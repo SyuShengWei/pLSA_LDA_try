{
 "cells": [
  {
   "cell_type": "code",
   "execution_count": 59,
   "metadata": {},
   "outputs": [],
   "source": [
    "import jieba"
   ]
  },
  {
   "cell_type": "code",
   "execution_count": 60,
   "metadata": {},
   "outputs": [],
   "source": [
    "import codecs\n",
    "stopwords = [] \n",
    "with codecs.open(\"chinese_stopword.txt\",encoding = 'utf') as infile:\n",
    "    stopwords = infile.readlines()\n",
    "for i in range (len(stopwords)):\n",
    "    stopwords[i] = stopwords[i].replace(\"\\r\\n\",'')"
   ]
  },
  {
   "cell_type": "code",
   "execution_count": null,
   "metadata": {},
   "outputs": [],
   "source": []
  },
  {
   "cell_type": "code",
   "execution_count": 61,
   "metadata": {},
   "outputs": [],
   "source": [
    "Lyrics = []\n",
    "with open(\"MD_cheers\",'r') as infile:\n",
    "    Lyrics = infile.readlines()"
   ]
  },
  {
   "cell_type": "code",
   "execution_count": null,
   "metadata": {
    "collapsed": true
   },
   "outputs": [],
   "source": []
  },
  {
   "cell_type": "code",
   "execution_count": 62,
   "metadata": {},
   "outputs": [],
   "source": [
    "for i in range(len(Lyrics)):\n",
    "    Lyrics[i] = Lyrics[i].replace('\\n','')"
   ]
  },
  {
   "cell_type": "code",
   "execution_count": 63,
   "metadata": {},
   "outputs": [],
   "source": [
    "Tokened_Lyrics = []\n",
    "for line in Lyrics:\n",
    "    if line != \"\":\n",
    "        words = jieba.cut(line, cut_all=False)\n",
    "        sentence = []\n",
    "        for word in words :\n",
    "            if word != \" \" and word not in stopwords:\n",
    "                sentence.append(word)\n",
    "        Tokened_Lyrics.append(\" \".join(sentence))"
   ]
  },
  {
   "cell_type": "code",
   "execution_count": 64,
   "metadata": {},
   "outputs": [
    {
     "name": "stdout",
     "output_type": "stream",
     "text": [
      "乾杯 會不會 一天 時間 真的 倒退 退回 回不去 悠悠的 歲 月 許會 一天 世界 真的 終點 舉起 回憶釀 甜 再 乾 一杯 說 選出 代表 青春 畫面 浮現 那滴 眼淚 那片 藍天 那年 畢業 那一張 邊哭邊 笑 還要 擁抱 臉 想起 可愛可憐 可歌可泣 多懷念 懷念 總是 突然 懷念 不談 條件 當回憶 衝破 考卷 衝出 歲 月 眼前 留著 汗水 喝著 汽水 操場邊 說 好 一起 走 未來 世界 現在 未來 世界 身邊 身邊 同一 友情 曾 諾亞 方舟 堅強 誓言 望著 海面 著永遠 模糊 視線 會不會 一天 時間 真的 倒退 退回 回不去 悠悠的 歲 月 許會 一天 世界 真的 終點 舉起 回憶釀 甜 再 乾 一杯 年 買 四輪 買 手 錶 買 單眼 卻 發現 追 不到 停 人生 認命 只能 宿命 只好 宿醉 只 剩下 高 笑點 低 哭點 卻 成熟 點 成熟 幻想 幻滅 一場 磨練 夢想 越磨 越 小 小到 不見 好想 流淚 好想 流淚 卻 眼淚 期待 你會 他會 開個 同學會 詳盡 歌詞 ※ Mojim com 魔鏡 歌 詞網  孩子 沒睡 電話 沒電 心情 沒準備 天空 不斷 黑 亮 亮 黑 那光 陰 滄海 桑田 遠 走高 飛 再 沒力氣 追 會不會 一天 時間 真的 倒退 退回 回不去 悠悠的 歲 月 許會 一天 世界 真的 終點 舉起 回憶釀 甜 再 乾 一杯 會不會 一天 時間 真的 倒退 退回 回不去 悠悠的 歲 月 許會 一天 世界 真的 終點 舉起 回憶釀 甜 再 乾 一杯 終究會 一天 變成 昨天 陪 走過 一生 一回 人間 一天 今天 今天 一天 說出 一直 沒說 感謝 再 乾 一杯 再 乾 一杯 永遠 喝 萬歲 歲 歲 年 年 時間 停 回來 懷念 人 \n"
     ]
    }
   ],
   "source": [
    "All_Lyrics = ''\n",
    "for line in Tokened_Lyrics:\n",
    "    All_Lyrics += (line + ' ')\n",
    "print(All_Lyrics)"
   ]
  },
  {
   "cell_type": "code",
   "execution_count": 65,
   "metadata": {},
   "outputs": [],
   "source": [
    "from sklearn.feature_extraction.text import CountVectorizer\n",
    "vectorizer = CountVectorizer()\n",
    "X = vectorizer.fit_transform(Tokened_Lyrics).toarray()"
   ]
  },
  {
   "cell_type": "code",
   "execution_count": 66,
   "metadata": {},
   "outputs": [],
   "source": [
    "from sklearn.feature_extraction.text import TfidfVectorizer, CountVectorizer\n",
    "tf_vectorizer = CountVectorizer(max_df=0.95, min_df=2, stop_words='english')\n",
    "tf = tf_vectorizer.fit_transform(Tokened_Lyrics)\n",
    "tf_feature_names = tf_vectorizer.get_feature_names()"
   ]
  },
  {
   "cell_type": "code",
   "execution_count": 67,
   "metadata": {},
   "outputs": [
    {
     "name": "stderr",
     "output_type": "stream",
     "text": [
      "/usr/local/lib/python3.6/site-packages/sklearn/decomposition/online_lda.py:294: DeprecationWarning: n_topics has been renamed to n_components in version 0.19 and will be removed in 0.21\n",
      "  DeprecationWarning)\n"
     ]
    }
   ],
   "source": [
    "from sklearn.decomposition import NMF, LatentDirichletAllocation\n",
    "lda = LatentDirichletAllocation(n_topics= 5, max_iter=5, learning_method='online', learning_offset=50.,random_state=0).fit(tf)\n"
   ]
  },
  {
   "cell_type": "code",
   "execution_count": 68,
   "metadata": {},
   "outputs": [
    {
     "name": "stdout",
     "output_type": "stream",
     "text": [
      "Topic [ 0 ] : 一天 終點 世界\n",
      "Topic [ 1 ] : 世界 未來 眼淚\n",
      "Topic [ 2 ] : 一杯 舉起 回憶釀\n",
      "Topic [ 3 ] : 時間 倒退 會不會\n",
      "Topic [ 4 ] : 退回 回不去 悠悠的\n"
     ]
    }
   ],
   "source": [
    "no_top_words = 3\n",
    "feature_names = tf_feature_names \n",
    "for topic_idx, topic in enumerate(lda.components_):\n",
    "    print(\"Topic [\",topic_idx,\"]\",end = \" : \")\n",
    "    print(\" \".join([feature_names[i]for i in topic.argsort()[:-no_top_words - 1:-1]]))"
   ]
  },
  {
   "cell_type": "code",
   "execution_count": null,
   "metadata": {
    "collapsed": true
   },
   "outputs": [],
   "source": []
  },
  {
   "cell_type": "code",
   "execution_count": null,
   "metadata": {
    "collapsed": true
   },
   "outputs": [],
   "source": []
  }
 ],
 "metadata": {
  "kernelspec": {
   "display_name": "Python 3",
   "language": "python",
   "name": "python3"
  },
  "language_info": {
   "codemirror_mode": {
    "name": "ipython",
    "version": 3
   },
   "file_extension": ".py",
   "mimetype": "text/x-python",
   "name": "python",
   "nbconvert_exporter": "python",
   "pygments_lexer": "ipython3",
   "version": "3.6.1"
  }
 },
 "nbformat": 4,
 "nbformat_minor": 2
}
